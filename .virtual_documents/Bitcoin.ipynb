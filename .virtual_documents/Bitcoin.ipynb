import pandas as pd
import numpy as np
import matplotlib.pyplot as plt
import seaborn as sns

from sklearn.model_selection import TimeSeriesSplit
from sklearn.metrics import mean_absolute_error, mean_squared_error
from xgboost import XGBRegressor
from sklearn.preprocessing import StandardScaler
from sklearn.model_selection import TimeSeriesSplit


btc = pd.read_csv("data/btc_raw.csv", parse_dates=["Date"])
btc = btc.set_index("Date")


btc.columns


btc['Close'].isna().sum()





btc = btc[pd.to_numeric(btc['Close'], errors='coerce').notna()]
btc['Close'] = btc['Close'].astype(float)


plt.figure(figsize=(14, 6))
btc['Close'].plot(title="Precio de Cierre del Bitcoin")
plt.ylabel("USD")
plt.grid()
plt.show()


btc["day"] = btc.index.day
btc["month"] = btc.index.month
btc["year"] = btc.index.year
btc["dayofweek"] = btc.index.dayofweek


btc['Low'] = btc['Low'].astype(float)
btc['High'] = btc['High'].astype(float)
btc['Open'] = btc['Open'].astype(float)


btc.columns





btc["lag_1"] = btc["Close"].shift(1)
btc["lag_7"] = btc["Close"].shift(7)
btc["lag_30"] = btc["Close"].shift(30)
btc["rolling_mean_7"] = btc["Close"].shift(1).rolling(window=7).mean()
btc["rolling_std_7"] = btc["Close"].shift(1).rolling(window=7).std()
btc["rolling_mean_30"] = btc["Close"].shift(1).rolling(window=30).mean()
btc["rolling_std_30"] = btc["Close"].shift(1).rolling(window=30).std()


btc['price_change'] = btc['Close'] - btc['lag_1']
btc['volatility_14'] = btc['Close'].rolling(window=14).std()
btc['hl_spread'] = btc['High'] - btc['Low']
btc['close_open_diff'] = btc['Close'] - btc['Open']


btc.dropna()#Dropping the edges


cols = [column for column in btc.columns if column != "Close"]
X = btc[cols]
y = btc['Close']


scaler = StandardScaler()
X_scaled = scaler.fit_transform(X)


tscv = TimeSeriesSplit(n_splits=5)
rmse_scores, mae_scores, mape_scores = [], [], []


y_pred_all = []
y_tests_all = []


for fold, (train_idx, test_idx) in enumerate(tscv.split(X_scaled)):
    X_train, X_test = X_scaled[train_idx], X_scaled[test_idx]
    y_train, y_test = y.iloc[train_idx], y.iloc[test_idx]

    model = XGBRegressor(
        n_estimators=500,
        learning_rate=0.01,
        max_depth=6,
        subsample=0.8,
        colsample_bytree=0.8,
        random_state=42
    )
    model.fit(X_train, y_train)
    y_pred = model.predict(X_test)

    y_pred_all.extend(y_pred)
    y_tests_all.extend(y_test)
    
    rmse = np.sqrt(mean_squared_error(y_test, y_pred))
    mae = mean_absolute_error(y_test, y_pred)
    mape = np.mean(np.abs((y_test - y_pred) / y_test)) * 100

    rmse_scores.append(rmse)
    mae_scores.append(mae)
    mape_scores.append(mape)

    print(f"Fold {fold+1} → RMSE: {rmse:.2f}, MAE: {mae:.2f}, MAPE: {mape:.2f}%")


print("\nResultados Promedio:")
print(f"RMSE: {np.mean(rmse_scores):.2f}")
print(f"MAE: {np.mean(mae_scores):.2f}")
print(f"MAPE: {np.mean(mape_scores):.2f}%")


y_tests_all = np.array(y_tests_all)
y_preds_all = np.array(y_pred_all)


final_model = XGBRegressor(
    n_estimators=500,
    learning_rate=0.01,
    max_depth=5,
    subsample=0.8,
    colsample_bytree=0.8,
    random_state=42
)


final_model.fit(X_scaled[:-30], y.iloc[:-30])
y_pred = final_model.predict(X_scaled[-30:])
y_true = y.iloc[-30:]


plt.figure(figsize=(14, 6))
plt.plot(y.index[-len(y_tests_all):], y_tests_all, label="Real")
plt.plot(y.index[-len(y_tests_all):], y_preds_all, label="Predicción (Cross-Validation)", alpha=0.7)
plt.title("Predicción en Validación Cruzada (General)")
plt.ylabel("USD")
plt.legend()
plt.grid()
plt.show()


plt.figure(figsize=(14,6))
plt.plot(y_true.index, y_true, label="Real")
plt.plot(y_true.index, y_pred, label="Prediccion", alpha=0.8)
plt.legend()
plt.title("Prediccion del Precio del Bitcoin (ultimos 30 dias)")
plt.ylabel("USD")
plt.grid()
plt.show()


importances = pd.Series(final_model.feature_importances_, index=cols)
importances.sort_values().plot(kind="barh", figsize=(10,6), title="Importancia de Features")
plt.grid()
plt.show()
